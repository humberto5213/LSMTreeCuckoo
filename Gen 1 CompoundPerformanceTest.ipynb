{
 "cells": [
  {
   "cell_type": "markdown",
   "id": "0096a32c-9e5c-4186-806c-1e3de968c608",
   "metadata": {},
   "source": [
    "## Bloom and Cukoo filter's Performance Evaluation"
   ]
  },
  {
   "cell_type": "code",
   "execution_count": 1,
   "id": "b9afe236-4c0c-458a-93c4-81b80e7083d4",
   "metadata": {},
   "outputs": [],
   "source": [
    "from lsm_tree.GenOne.lsm_tree_cuckoo_filter_mem import LSMTreeCuckoo\n",
    "from lsm_tree.GenOne.lsm_tree_bloom_filter_mem import LSMTreeBloom\n",
    "from lsm_tree.GenOne.lsm_tree_original import LSMTree\n",
    "from tqdm import tqdm\n",
    "from statistics import stdev, mean\n",
    "from pympler import asizeof\n",
    "\n",
    "# import cProfile\n",
    "# import pstats\n",
    "# import snakeviz\n",
    "\n",
    "import pandas as pd\n",
    "import pyarrow.parquet as pq\n",
    "import sys\n",
    "import numpy as np\n",
    "import time\n",
    "import random\n",
    "import pickle\n",
    "import matplotlib.pyplot as plt\n",
    "import psutil\n",
    "import os"
   ]
  },
  {
   "cell_type": "markdown",
   "id": "3530ff31-2963-4941-88c7-3152ebf25cbc",
   "metadata": {},
   "source": [
    "## Loading DataSet"
   ]
  },
  {
   "cell_type": "code",
   "execution_count": 2,
   "id": "8002be1f-58b4-46fd-8a82-db9a4722e5a1",
   "metadata": {},
   "outputs": [],
   "source": [
    "df_parquet = pq.read_table('Data/2019-01-01_performance_fixed_tiles.parquet').to_pandas()"
   ]
  },
  {
   "cell_type": "code",
   "execution_count": 3,
   "id": "10d94944-dd93-479d-84d5-7a203566ce4b",
   "metadata": {},
   "outputs": [
    {
     "name": "stdout",
     "output_type": "stream",
     "text": [
      "Whole DataFrame      :  395.040068 4877036\n"
     ]
    }
   ],
   "source": [
    "SEGMENTS_DIRECTORY_CKF = 'segments/cuckoo/'\n",
    "SEGMENT_BASENAME_CKF = 'LSMTreeCuckoo'\n",
    "WAL_BASENAME_CKF = 'wal_file_cuckoo'\n",
    "\n",
    "SEGMENTS_DIRECTORY_BF = 'segments/bloom/'\n",
    "SEGMENT_BASENAME_BF = 'LSMTreeBloom'\n",
    "WAL_BASENAME_BF = 'wal_file_bloom'\n",
    "\n",
    "size = sys.getsizeof(df_parquet[['quadkey','avg_d_kbps']])/1000000\n",
    "print('Whole DataFrame      : ',size , len(df_parquet))"
   ]
  },
  {
   "cell_type": "code",
   "execution_count": 4,
   "id": "5aaea974-5a7a-4d0b-89d6-07fa078de17f",
   "metadata": {},
   "outputs": [
    {
     "data": {
      "text/html": [
       "<div>\n",
       "<style scoped>\n",
       "    .dataframe tbody tr th:only-of-type {\n",
       "        vertical-align: middle;\n",
       "    }\n",
       "\n",
       "    .dataframe tbody tr th {\n",
       "        vertical-align: top;\n",
       "    }\n",
       "\n",
       "    .dataframe thead th {\n",
       "        text-align: right;\n",
       "    }\n",
       "</style>\n",
       "<table border=\"1\" class=\"dataframe\">\n",
       "  <thead>\n",
       "    <tr style=\"text-align: right;\">\n",
       "      <th></th>\n",
       "      <th>quadkey</th>\n",
       "      <th>tile</th>\n",
       "      <th>avg_d_kbps</th>\n",
       "      <th>avg_u_kbps</th>\n",
       "      <th>avg_lat_ms</th>\n",
       "      <th>tests</th>\n",
       "      <th>devices</th>\n",
       "      <th>hashed_vals</th>\n",
       "    </tr>\n",
       "  </thead>\n",
       "  <tbody>\n",
       "    <tr>\n",
       "      <th>0</th>\n",
       "      <td>0231113112003202</td>\n",
       "      <td>POLYGON((-90.6591796875 38.4922941923613, -90....</td>\n",
       "      <td>66216</td>\n",
       "      <td>12490</td>\n",
       "      <td>13</td>\n",
       "      <td>28</td>\n",
       "      <td>4</td>\n",
       "      <td>5192113336454434242</td>\n",
       "    </tr>\n",
       "    <tr>\n",
       "      <th>1</th>\n",
       "      <td>1322111021111001</td>\n",
       "      <td>POLYGON((110.352172851562 21.2893743558604, 11...</td>\n",
       "      <td>102598</td>\n",
       "      <td>37356</td>\n",
       "      <td>13</td>\n",
       "      <td>15</td>\n",
       "      <td>4</td>\n",
       "      <td>6336983917764005744</td>\n",
       "    </tr>\n",
       "    <tr>\n",
       "      <th>2</th>\n",
       "      <td>3112203030003110</td>\n",
       "      <td>POLYGON((138.592529296875 -34.9219710361638, 1...</td>\n",
       "      <td>24686</td>\n",
       "      <td>18736</td>\n",
       "      <td>18</td>\n",
       "      <td>162</td>\n",
       "      <td>106</td>\n",
       "      <td>1018543572858594839</td>\n",
       "    </tr>\n",
       "    <tr>\n",
       "      <th>3</th>\n",
       "      <td>0320000130321312</td>\n",
       "      <td>POLYGON((-87.637939453125 40.225024210605, -87...</td>\n",
       "      <td>17674</td>\n",
       "      <td>13989</td>\n",
       "      <td>78</td>\n",
       "      <td>364</td>\n",
       "      <td>4</td>\n",
       "      <td>5869182951771310527</td>\n",
       "    </tr>\n",
       "    <tr>\n",
       "      <th>4</th>\n",
       "      <td>0320001332313103</td>\n",
       "      <td>POLYGON((-84.7430419921875 38.9209554204673, -...</td>\n",
       "      <td>441192</td>\n",
       "      <td>218955</td>\n",
       "      <td>22</td>\n",
       "      <td>14</td>\n",
       "      <td>1</td>\n",
       "      <td>41738412402490387</td>\n",
       "    </tr>\n",
       "  </tbody>\n",
       "</table>\n",
       "</div>"
      ],
      "text/plain": [
       "            quadkey                                               tile  \\\n",
       "0  0231113112003202  POLYGON((-90.6591796875 38.4922941923613, -90....   \n",
       "1  1322111021111001  POLYGON((110.352172851562 21.2893743558604, 11...   \n",
       "2  3112203030003110  POLYGON((138.592529296875 -34.9219710361638, 1...   \n",
       "3  0320000130321312  POLYGON((-87.637939453125 40.225024210605, -87...   \n",
       "4  0320001332313103  POLYGON((-84.7430419921875 38.9209554204673, -...   \n",
       "\n",
       "   avg_d_kbps  avg_u_kbps  avg_lat_ms  tests  devices          hashed_vals  \n",
       "0       66216       12490          13     28        4  5192113336454434242  \n",
       "1      102598       37356          13     15        4  6336983917764005744  \n",
       "2       24686       18736          18    162      106  1018543572858594839  \n",
       "3       17674       13989          78    364        4  5869182951771310527  \n",
       "4      441192      218955          22     14        1    41738412402490387  "
      ]
     },
     "execution_count": 4,
     "metadata": {},
     "output_type": "execute_result"
    }
   ],
   "source": [
    "df_parquet['hashed_vals'] = df_parquet['tile'].apply(lambda x: abs(hash(x)))\n",
    "df_parquet.head()"
   ]
  },
  {
   "cell_type": "code",
   "execution_count": 5,
   "id": "61a26a6c-7c30-4374-8aca-3b083157c9f4",
   "metadata": {},
   "outputs": [
    {
     "data": {
      "text/plain": [
       "1.0"
      ]
     },
     "execution_count": 5,
     "metadata": {},
     "output_type": "execute_result"
    }
   ],
   "source": [
    "cardinality = df_parquet['hashed_vals'].nunique()/len(df_parquet)\n",
    "cardinality"
   ]
  },
  {
   "cell_type": "markdown",
   "id": "025c5fad-a399-4af8-8ed5-6161a54513e5",
   "metadata": {},
   "source": [
    "## Functions For Evaluating"
   ]
  },
  {
   "cell_type": "code",
   "execution_count": 6,
   "id": "1d544d17-f6ce-41cd-9a03-202cf49ad564",
   "metadata": {},
   "outputs": [],
   "source": [
    "def reset_lsm(batch_size, lvl_list, fpp, time_th):\n",
    "    \n",
    "    !rm segments/cuckoo/*\n",
    "    !rm segments/bloom/*\n",
    "    !rm segments/cuckoo/cuckoo_filters/*\n",
    "    !rm segments/bloom/bloom_filters/*\n",
    "    \n",
    "    lsm_ckf = LSMTreeCuckoo(SEGMENT_BASENAME_CKF, SEGMENTS_DIRECTORY_CKF, WAL_BASENAME_CKF)\n",
    "    lsm_ckf.set_size_threshold(batch_size)\n",
    "    lsm_ckf.set_ckf_fpp(fpp)\n",
    "    lsm_ckf.set_time_threshold(time_th)\n",
    "    lsm_ckf.set_levels_threshold(lvl_list[0], lvl_list[1])\n",
    "\n",
    "    lsm_bf = LSMTreeBloom(SEGMENT_BASENAME_BF, SEGMENTS_DIRECTORY_BF, WAL_BASENAME_BF)\n",
    "    lsm_bf.set_size_threshold(batch_size)\n",
    "    lsm_bf.set_bf_fpp(fpp)\n",
    "    lsm_bf.set_time_threshold(time_th)\n",
    "    # lsm_bf.set_levels_threshold(lvl_list[0], lvl_list[1])\n",
    "    \n",
    "    return lsm_ckf, lsm_bf\n",
    "\n",
    "def insert_testing(lsm, df):\n",
    "    insertion_time = []\n",
    "    for num, row in enumerate(df.iterrows()):\n",
    "        start_time = time.time()\n",
    "        lsm.db_set(str(row[1][-1]), str(row[1][1]))   \n",
    "        end_time = time.time()\n",
    "        insertion_time.append(end_time - start_time)\n",
    "    insertion_time = remove_outliers_zscore(insertion_time)\n",
    "    return insertion_time\n",
    "\n",
    "def query_testing(lsm, val_list, test_size):\n",
    "    time_list = []\n",
    "    for val in val_list[:test_size]:\n",
    "        start_time = time.time()\n",
    "        lsm.db_get(val)    \n",
    "        end_time = time.time()\n",
    "        time_list.append(end_time - start_time)\n",
    "    time_list = remove_outliers_zscore(time_list)\n",
    "    return time_list\n",
    "\n",
    "def deletion_testing(lsm, val_list, test_size):\n",
    "    time_list = []\n",
    "    del_list = []\n",
    "    for val in val_list[:test_size]:\n",
    "        start_time = time.time()\n",
    "        lsm.db_del(val)    \n",
    "        end_time = time.time()\n",
    "        time_list.append(end_time - start_time)    \n",
    "        del_list.append(val)\n",
    "    time_list = remove_outliers_zscore(time_list)\n",
    "    return time_list, del_list\n",
    "\n",
    "def remove_outliers_zscore(data, threshold=3):\n",
    "    mean = np.mean(data)\n",
    "    std = np.std(data)\n",
    "    z_scores = [(x - mean) / std for x in data]\n",
    "    filtered_data = [x for x, z in zip(data, z_scores) if abs(z) < threshold]\n",
    "    return filtered_data"
   ]
  },
  {
   "cell_type": "markdown",
   "id": "291316e7-38ce-4265-8435-55c3728fd141",
   "metadata": {},
   "source": [
    "## Performance Evaluation"
   ]
  },
  {
   "cell_type": "markdown",
   "id": "ae38b0a1-2ab8-426d-b852-65e955fe2672",
   "metadata": {},
   "source": [
    "### Query & Deletion Evaluation"
   ]
  },
  {
   "cell_type": "code",
   "execution_count": 7,
   "id": "1861e355-8482-475c-b9b5-72a897cb9164",
   "metadata": {},
   "outputs": [
    {
     "data": {
      "text/plain": [
       "(6, 6, 6, 6, 6)"
      ]
     },
     "execution_count": 7,
     "metadata": {},
     "output_type": "execute_result"
    }
   ],
   "source": [
    "insert_range        = [100000,  150000, 200000, 250000,  300000,   350000]\n",
    "query_del_test_list = [10000,     15000,  20000,  25000,   30000,   35000] \n",
    "query_del_ranges    = ['10k',     '15k',  '20k',  '25k',   '30k',   '35k'] \n",
    "batch_size          = [25000,     30000,  35000,  40000,   45000,   50000] \n",
    "lvl_list            = [[10,20],[20,40],[40,80],[50,100],[60,120],[70,140]]\n",
    "\n",
    "fpp = 0.1\n",
    "df = df_parquet\n",
    "time_th = 0.05\n",
    "\n",
    "len(insert_range), len(query_del_test_list), len(query_del_ranges), len(batch_size), len(lvl_list)"
   ]
  },
  {
   "cell_type": "code",
   "execution_count": 8,
   "id": "88ef97eb-d6b1-4a73-90ab-79389982804a",
   "metadata": {},
   "outputs": [],
   "source": [
    "query_bef_results = {}\n",
    "deletion_results = {}\n",
    "query_aft_results = {}"
   ]
  },
  {
   "cell_type": "code",
   "execution_count": 7,
   "id": "b276e5fd-5265-4fad-befb-a99ffcf952f1",
   "metadata": {},
   "outputs": [],
   "source": [
    "for index, insert_num in tqdm(enumerate(insert_range[:1])):\n",
    "    \n",
    "    lsm_ckf , lsm_bf = reset_lsm(batch_size[index], lvl_list[index], fpp, time_th)\n",
    "    \n",
    "    print(f'Insertion Test {index+1} for {insert_num} Keys Starts!!')\n",
    "    for row in df.iloc[:insert_num].iterrows():\n",
    "        lsm_bf.db_set(str(row[1][-1]), str(row[1][1]))\n",
    "        lsm_ckf.db_set(str(row[1][-1]), str(row[1][1]))\n",
    "    print(lsm_bf.bfs_in_memory)\n",
    "        \n",
    "    query_list = df_parquet['hashed_vals'].iloc[:insert_num].tolist()\n",
    "    random.shuffle(query_list)\n",
    "    query_list = [str(element) for element in query_list]\n",
    "    \n",
    "    print(f'Query Before Test {index+1} for {insert_num} Keys Starts!!')\n",
    "    query_bef_results[str(insert_num)] = (query_testing(lsm_bf, query_list, query_del_test_list[index]),)\n",
    "    query_bef_results[str(insert_num)] += (query_testing(lsm_ckf, query_list, query_del_test_list[index]),)\n",
    "\n",
    "    print(f'Deletion Test {index+1} for {insert_num} Keys Starts!!')\n",
    "    del_bf, del_list_bf = deletion_testing(lsm_bf, query_list, query_del_test_list[index])\n",
    "    deletion_results[str(insert_num)] =(del_bf,)\n",
    "    del_ckf, del_list_ckf,= deletion_testing(lsm_ckf, query_list, query_del_test_list[index])\n",
    "    deletion_results[str(insert_num)] += (del_ckf,)\n",
    "\n",
    "    print(f'Query After Test {index+1} for {insert_num} Keys Starts!!')\n",
    "    query_aft_results[str(insert_num)]  = (query_testing(lsm_bf, del_list_bf, query_del_test_list[index]),)\n",
    "    query_aft_results[str(insert_num)] += (query_testing(lsm_ckf, del_list_ckf, query_del_test_list[index]),)"
   ]
  },
  {
   "cell_type": "code",
   "execution_count": null,
   "id": "777f9674-eb6c-4f49-8833-92bf2473daf4",
   "metadata": {},
   "outputs": [],
   "source": [
    "with open('query_bef_results_org', 'wb') as b:\n",
    "    pickle.dump(query_bef_results, b)\n",
    "    \n",
    "with open('deletion_results_org', 'wb') as b:\n",
    "    pickle.dump(deletion_results, b)\n",
    "    \n",
    "with open('query_aft_results_org', 'wb') as b:\n",
    "    pickle.dump(query_aft_results, b)"
   ]
  },
  {
   "cell_type": "markdown",
   "id": "adba9776-3bab-40b8-af83-fc701205a7de",
   "metadata": {},
   "source": [
    "### Insertion Evaluation "
   ]
  },
  {
   "cell_type": "code",
   "execution_count": 12,
   "id": "c756fa8c-d47b-445c-a900-7f677c082927",
   "metadata": {},
   "outputs": [
    {
     "data": {
      "text/plain": [
       "(7, 7, 7, 7)"
      ]
     },
     "execution_count": 12,
     "metadata": {},
     "output_type": "execute_result"
    }
   ],
   "source": [
    "fpp = 0.1\n",
    "df = df_parquet\n",
    "time_th = 0.05\n",
    "\n",
    "insert_ranges       = [25000  ,  50000,  100000,  200000,   400000,   800000,  1600000] #, 3200000]\n",
    "insert_ranges_ticks = ['25k'  ,'50k'  ,'100k'  ,'200k'  ,'400k'   , '800k'  ,  '1600k'] #  ,  '3200k']\n",
    "batch_size          = [2500   ,   5000,   10000,   20000,    40000,    80000,   160000] # ,   360000] \n",
    "lvl_list            = [[20,40],[40,80],[60,120],[80,160],[100,200],[120,240],[140,300]] # ,[150,310]]\n",
    "\n",
    "len(insert_ranges), len(insert_ranges_ticks), len(batch_size), len(lvl_list)"
   ]
  },
  {
   "cell_type": "code",
   "execution_count": null,
   "id": "a610badc-597d-4a1a-a631-63aa6e77be79",
   "metadata": {},
   "outputs": [],
   "source": [
    "inserts_results = {}\n",
    "for batch_num, insert_num, lvl in tqdm(zip(batch_size, insert_ranges, lvl_list)):\n",
    "    \n",
    "    lsm_ckf , lsm_bf = reset_lsm(batch_num, lvl, fpp, time_th)\n",
    "    \n",
    "    print(f'{insert_num} Insertion Test Starts!!')\n",
    "    insertion_bf = insert_testing(lsm_bf, df.iloc[:insert_num])\n",
    "    inserts_results[str(insert_num)] = (insertion_bf,)\n",
    "    insertion_ckf = insert_testing(lsm_ckf, df.iloc[:insert_num])\n",
    "    inserts_results[str(insert_num)] += (insertion_ckf,)"
   ]
  },
  {
   "cell_type": "markdown",
   "id": "0532dcaf-fac4-4c82-8257-3ace1c9af61a",
   "metadata": {},
   "source": [
    "## Memory Test"
   ]
  },
  {
   "cell_type": "code",
   "execution_count": 285,
   "id": "dbe41cec-9cdf-4baf-b9bd-27497ba6f785",
   "metadata": {
    "tags": []
   },
   "outputs": [
    {
     "name": "stdout",
     "output_type": "stream",
     "text": [
      "1500000 Insertion Test Starts!!\n",
      "rm: cannot remove 'segments/cuckoo/cuckoo_filters': Is a directory\n",
      "rm: cannot remove 'segments/bloom/bloom_filters': Is a directory\n",
      "rm: cannot remove 'segments/cuckoo/cuckoo_filters/*': No such file or directory\n",
      "rm: cannot remove 'segments/bloom/bloom_filters/*': No such file or directory\n"
     ]
    },
    {
     "name": "stderr",
     "output_type": "stream",
     "text": [
      "1500000it [03:45, 6644.41it/s]\n"
     ]
    }
   ],
   "source": [
    "fpp = 0.05\n",
    "df = df_parquet\n",
    "time_th = 0.014\n",
    "\n",
    "insert_ranges       = [i for i in range(250000,3750000,250000)]\n",
    "batch_size          = [i for i in range(25000,375000,25000)]\n",
    "lvl_list            = [[x, 2*x] for x in range(20, 140,9)]\n",
    "\n",
    "memory = {}\n",
    "file_count = {}\n",
    "start = 5\n",
    "stop = 6\n",
    "step = None\n",
    "\n",
    "for batch_num, insert_num, lvl in zip(batch_size[start:stop:step], insert_ranges[start:stop:step], lvl_list[start:stop:step]):\n",
    "    print(f'{insert_num} Insertion Test Starts!!')\n",
    "    lsm_ckf , lsm_bf = reset_lsm(batch_num, lvl, fpp, time_th)\n",
    "    for row in tqdm(df_parquet[:insert_num].iterrows()):\n",
    "        lsm_bf.db_set(str(row[1][-1]), str(row[1][1]))\n",
    "        lsm_ckf.db_set(str(row[1][-1]), str(row[1][1]))\n",
    "    lsm_bf.save_bfs()\n",
    "    lsm_ckf.save_ckfs()"
   ]
  },
  {
   "cell_type": "code",
   "execution_count": 286,
   "id": "1b9f866f-bd59-4396-8417-f78205018924",
   "metadata": {},
   "outputs": [],
   "source": [
    "cuckoo_path = os.listdir('segments/cuckoo/cuckoo_filters/')[0]\n",
    "cuckoo = os.path.getsize('segments/cuckoo/cuckoo_filters/'+cuckoo_path)/(1024**3)"
   ]
  },
  {
   "cell_type": "code",
   "execution_count": 287,
   "id": "afdfaa26-f8c7-481a-9bae-34af9b1ea27a",
   "metadata": {},
   "outputs": [
    {
     "data": {
      "text/plain": [
       "0.0010799653828144073"
      ]
     },
     "execution_count": 287,
     "metadata": {},
     "output_type": "execute_result"
    }
   ],
   "source": [
    "cuckoo"
   ]
  },
  {
   "cell_type": "code",
   "execution_count": 288,
   "id": "66a029c8-6a63-4c68-ad86-c7333c9ed505",
   "metadata": {},
   "outputs": [],
   "source": [
    "bloom_path = os.listdir('segments/bloom/bloom_filters/')[0]\n",
    "bloom = os.path.getsize('segments/bloom/bloom_filters/'+bloom_path)/(1024**3)"
   ]
  },
  {
   "cell_type": "code",
   "execution_count": 289,
   "id": "de538b24-f876-44eb-ad04-7884656dd2aa",
   "metadata": {},
   "outputs": [
    {
     "data": {
      "text/plain": [
       "0.0011626984924077988"
      ]
     },
     "execution_count": 289,
     "metadata": {},
     "output_type": "execute_result"
    }
   ],
   "source": [
    "bloom"
   ]
  },
  {
   "cell_type": "code",
   "execution_count": 290,
   "id": "eb8c1601-fcd1-4663-9e8b-8502693b227f",
   "metadata": {},
   "outputs": [],
   "source": [
    "temp_dic = {}\n",
    "for i in os.listdir('segments/cuckoo/'):\n",
    "    if i.split('-')[0] == 'LSMTreeCuckoo':\n",
    "        temp_dic[i] = os.path.getsize('segments/cuckoo/'+i)/(1024**3)\n",
    "sstable = min(temp_dic.values())"
   ]
  },
  {
   "cell_type": "code",
   "execution_count": 291,
   "id": "c2e5b389-77bc-4da1-b352-54f8ad4ce73e",
   "metadata": {},
   "outputs": [
    {
     "data": {
      "text/plain": [
       "0.028202720917761326"
      ]
     },
     "execution_count": 291,
     "metadata": {},
     "output_type": "execute_result"
    }
   ],
   "source": [
    "sstable"
   ]
  },
  {
   "cell_type": "code",
   "execution_count": 292,
   "id": "bda88d6a-9c33-4133-8d3f-8c23965e4b68",
   "metadata": {},
   "outputs": [
    {
     "name": "stderr",
     "output_type": "stream",
     "text": [
      "100%|██████████| 10000/10000 [00:00<00:00, 443879.27it/s]\n"
     ]
    }
   ],
   "source": [
    "meta_dict = {}\n",
    "for i in tqdm(range(10, 100010, 10)):\n",
    "\n",
    "    sstable_file_num = int(round(i/sstable, 0))\n",
    "    ckf_file_num = round(sstable_file_num*cuckoo, 2)\n",
    "    bf_file_num = round(sstable_file_num*bloom, 2)\n",
    "\n",
    "    meta_dict[i] = (sstable_file_num, bf_file_num, ckf_file_num)"
   ]
  },
  {
   "cell_type": "code",
   "execution_count": 293,
   "id": "78185eac-0160-4d9f-b213-e55a8051ca3e",
   "metadata": {},
   "outputs": [],
   "source": [
    "# meta_dict"
   ]
  },
  {
   "cell_type": "code",
   "execution_count": 294,
   "id": "a80e14b6-d70f-4a55-8280-adb93604db38",
   "metadata": {},
   "outputs": [],
   "source": [
    "def plot_memory(bf_data, ckf_data, ax0, plot_title, fpp_rate, loc=6, tick_skip=500):\n",
    "    plt.figure(figsize=(8, 5))  # Adjust the figure size for better readability\n",
    "\n",
    "    # Plotting\n",
    "    plt.plot(bf_data, color='Green', linestyle='--')\n",
    "    plt.plot(ckf_data, color='Orange', linestyle='--')\n",
    "    plt.xlabel('Number of Filters per 1000', size=15)\n",
    "    plt.ylabel('Memory Consumed (GB)', size=15)\n",
    "\n",
    "    # Convert ax0 values to Ks (thousands) and skip every nth value\n",
    "    x_ticks = [f'{val//1000}K' for val in ax0[::tick_skip]]\n",
    "    plt.xticks(range(0, len(ax0), tick_skip), x_ticks, rotation=40, ha=\"right\")\n",
    "\n",
    "    # plt.title(f'{plot_title}', size=20)\n",
    "\n",
    "    plt.legend(['Bloom Filter', 'Cuckoo Filter'], loc=loc)\n",
    "    fig_title = ''.join(plot_title.split())\n",
    "    file_name = fig_title\n",
    "    plt.subplots_adjust(bottom=0.25)\n",
    "    plt.savefig(f'{file_name}.png')\n",
    "    plt.tight_layout()  # Ensures that labels fit within the figure\n",
    "    \n",
    "    plt.show()"
   ]
  },
  {
   "cell_type": "code",
   "execution_count": 295,
   "id": "c5d86eb2-ed72-4c71-84e1-c940ddb06576",
   "metadata": {},
   "outputs": [
    {
     "data": {
      "image/png": "[encoded data removed]",
      "text/plain": [
       "<Figure size 576x360 with 1 Axes>"
      ]
     },
     "metadata": {
      "needs_background": "light"
     },
     "output_type": "display_data"
    }
   ],
   "source": [
    "ssfile_disk_files = [val[0] for key, val in meta_dict.items()]\n",
    "bf_memory_usage = [val[1] for key, val in meta_dict.items()]\n",
    "ckf_memory_usage = [val[2] for key, val in meta_dict.items()]\n",
    "\n",
    "plot_memory(bf_memory_usage, ckf_memory_usage, ssfile_disk_files,f'Filter Memory Usage for {int(fpp*100)} percent FPP', loc = 0, fpp_rate = str(fpp))"
   ]
  },
  {
   "cell_type": "code",
   "execution_count": 296,
   "id": "9a874b74-4f36-4847-85d4-a050c55a9949",
   "metadata": {},
   "outputs": [],
   "source": [
    "from statistics import mean, stdev, harmonic_mean"
   ]
  },
  {
   "cell_type": "code",
   "execution_count": 303,
   "id": "5aff4ced-b6b6-475a-af84-1e076058586c",
   "metadata": {},
   "outputs": [
    {
     "data": {
      "text/plain": [
       "0.07660656448319958"
      ]
     },
     "execution_count": 303,
     "metadata": {},
     "output_type": "execute_result"
    }
   ],
   "source": [
    "mean([abs(ckf-bf)/ckf for bf, ckf in zip(bf_memory_usage,ckf_memory_usage)])"
   ]
  },
  {
   "cell_type": "markdown",
   "id": "9fe07023-da68-4fa2-8b6a-91e12b1a434e",
   "metadata": {},
   "source": [
    "## Original (No filter LSM Tree) Insertion Test "
   ]
  },
  {
   "cell_type": "code",
   "execution_count": 7,
   "id": "db8791c4-7032-4765-8cf8-1ccf4bb7edf4",
   "metadata": {},
   "outputs": [
    {
     "data": {
      "text/plain": [
       "(6, 6, 6, 6, 6)"
      ]
     },
     "execution_count": 7,
     "metadata": {},
     "output_type": "execute_result"
    }
   ],
   "source": [
    "insert_range        = [100000,  150000, 200000, 250000,  300000,   350000]\n",
    "query_del_test_list = [10000,     15000,  20000,  25000,   30000,   35000] \n",
    "query_del_ranges    = ['10k',     '15k',  '20k',  '25k',   '30k',   '35k'] \n",
    "batch_size          = [25000,     30000,  35000,  40000,   45000,   50000] \n",
    "lvl_list            = [[10,20],[20,40],[40,80],[50,100],[60,120],[70,140]]\n",
    "\n",
    "fpp = 0.1\n",
    "df = df_parquet\n",
    "time_th = 0.05\n",
    "\n",
    "len(insert_range), len(query_del_test_list), len(query_del_ranges), len(batch_size), len(lvl_list)"
   ]
  },
  {
   "cell_type": "code",
   "execution_count": 8,
   "id": "bf231d81-7c90-49a8-a1e5-2afc14f7d76b",
   "metadata": {},
   "outputs": [],
   "source": [
    "insertion_results = {}\n",
    "query_bef_results = {}\n",
    "deletion_results  = {}\n",
    "query_aft_results = {}"
   ]
  },
  {
   "cell_type": "code",
   "execution_count": 10,
   "id": "b4614d68-d210-40cd-b21d-dc785b50975b",
   "metadata": {},
   "outputs": [
    {
     "name": "stderr",
     "output_type": "stream",
     "text": [
      "0it [00:00, ?it/s]"
     ]
    },
    {
     "name": "stdout",
     "output_type": "stream",
     "text": [
      "rm: cannot remove 'segments/cuckoo/*': No such file or directory\n",
      "rm: cannot remove 'segments/bloom/*': No such file or directory\n",
      "Insertion Test 1 for 100000 Keys Starts!!\n",
      "Query Before Test 1 for 100000 Keys Starts!!\n",
      "Deletion Test 1 for 100000 Keys Starts!!\n",
      "Query After Test 1 for 100000 Keys Starts!!\n"
     ]
    },
    {
     "name": "stderr",
     "output_type": "stream",
     "text": [
      "1it [05:44, 344.67s/it]"
     ]
    },
    {
     "name": "stdout",
     "output_type": "stream",
     "text": [
      "rm: cannot remove 'segments/cuckoo/*': No such file or directory\n",
      "rm: cannot remove 'segments/bloom/*': No such file or directory\n",
      "Insertion Test 2 for 150000 Keys Starts!!\n",
      "Query Before Test 2 for 150000 Keys Starts!!\n",
      "Deletion Test 2 for 150000 Keys Starts!!\n",
      "Query After Test 2 for 150000 Keys Starts!!\n"
     ]
    },
    {
     "name": "stderr",
     "output_type": "stream",
     "text": [
      "2it [22:09, 721.40s/it]"
     ]
    },
    {
     "name": "stdout",
     "output_type": "stream",
     "text": [
      "rm: cannot remove 'segments/cuckoo/*': No such file or directory\n",
      "rm: cannot remove 'segments/bloom/*': No such file or directory\n",
      "Insertion Test 3 for 200000 Keys Starts!!\n",
      "Query Before Test 3 for 200000 Keys Starts!!\n",
      "Deletion Test 3 for 200000 Keys Starts!!\n",
      "Query After Test 3 for 200000 Keys Starts!!\n"
     ]
    },
    {
     "name": "stderr",
     "output_type": "stream",
     "text": [
      "3it [55:58, 1119.55s/it]\n"
     ]
    }
   ],
   "source": [
    "for index, insert_num in tqdm(enumerate(insert_range[:])):\n",
    "    \n",
    "    _, _, lsm_original = reset_lsm(batch_size[index], lvl_list[index], fpp, time_th)\n",
    "    \n",
    "    print(f'Insertion Test {index+1} for {insert_num} Keys Starts!!')\n",
    "    for row in df.iloc[:insert_num].iterrows():\n",
    "        lsm_original.db_set(str(row[1][-1]), str(row[1][1]))\n",
    "        \n",
    "    query_list = df_parquet['hashed_vals'].iloc[:insert_num].tolist()\n",
    "    random.shuffle(query_list)\n",
    "    query_list = [str(element) for element in query_list]\n",
    "    \n",
    "    print(f'Query Before Test {index+1} for {insert_num} Keys Starts!!')\n",
    "    query_bef_results[str(insert_num)] = (query_testing(lsm_original, query_list, query_del_test_list[index]),)\n",
    "    \n",
    "    print(f'Deletion Test {index+1} for {insert_num} Keys Starts!!')\n",
    "    del_org, del_list_org = deletion_testing(lsm_original, query_list, query_del_test_list[index])\n",
    "    deletion_results[str(insert_num)] =(del_org,)\n",
    "\n",
    "    print(f'Query After Test {index+1} for {insert_num} Keys Starts!!')\n",
    "    query_aft_results[str(insert_num)]  = (query_testing(lsm_original, del_list_org, query_del_test_list[index]),)"
   ]
  },
  {
   "cell_type": "code",
   "execution_count": 13,
   "id": "1ff695f5-d712-4315-b3f9-33fbb3e30ba5",
   "metadata": {},
   "outputs": [
    {
     "name": "stderr",
     "output_type": "stream",
     "text": [
      "0it [00:00, ?it/s]"
     ]
    },
    {
     "name": "stdout",
     "output_type": "stream",
     "text": [
      "rm: cannot remove 'segments/cuckoo/*': No such file or directory\n",
      "rm: cannot remove 'segments/bloom/*': No such file or directory\n",
      "25000 Insertion Test Starts!!\n"
     ]
    },
    {
     "name": "stderr",
     "output_type": "stream",
     "text": [
      "1it [00:02,  2.95s/it]"
     ]
    },
    {
     "name": "stdout",
     "output_type": "stream",
     "text": [
      "rm: cannot remove 'segments/cuckoo/*': No such file or directory\n",
      "rm: cannot remove 'segments/bloom/*': No such file or directory\n",
      "rm: cannot remove 'segments/lsm_original/*': No such file or directory\n",
      "50000 Insertion Test Starts!!\n"
     ]
    },
    {
     "name": "stderr",
     "output_type": "stream",
     "text": [
      "2it [00:07,  3.98s/it]"
     ]
    },
    {
     "name": "stdout",
     "output_type": "stream",
     "text": [
      "rm: cannot remove 'segments/cuckoo/*': No such file or directory\n",
      "rm: cannot remove 'segments/bloom/*': No such file or directory\n",
      "rm: cannot remove 'segments/lsm_original/*': No such file or directory\n",
      "100000 Insertion Test Starts!!\n"
     ]
    },
    {
     "name": "stderr",
     "output_type": "stream",
     "text": [
      "3it [00:16,  6.19s/it]"
     ]
    },
    {
     "name": "stdout",
     "output_type": "stream",
     "text": [
      "rm: cannot remove 'segments/cuckoo/*': No such file or directory\n",
      "rm: cannot remove 'segments/bloom/*': No such file or directory\n",
      "200000 Insertion Test Starts!!\n"
     ]
    },
    {
     "name": "stderr",
     "output_type": "stream",
     "text": [
      "4it [00:33, 10.41s/it]"
     ]
    },
    {
     "name": "stdout",
     "output_type": "stream",
     "text": [
      "rm: cannot remove 'segments/cuckoo/*': No such file or directory\n",
      "rm: cannot remove 'segments/bloom/*': No such file or directory\n",
      "400000 Insertion Test Starts!!\n"
     ]
    },
    {
     "name": "stderr",
     "output_type": "stream",
     "text": [
      "5it [01:06, 18.64s/it]"
     ]
    },
    {
     "name": "stdout",
     "output_type": "stream",
     "text": [
      "rm: cannot remove 'segments/cuckoo/*': No such file or directory\n",
      "rm: cannot remove 'segments/bloom/*': No such file or directory\n",
      "800000 Insertion Test Starts!!\n"
     ]
    },
    {
     "name": "stderr",
     "output_type": "stream",
     "text": [
      "6it [02:12, 34.75s/it]"
     ]
    },
    {
     "name": "stdout",
     "output_type": "stream",
     "text": [
      "rm: cannot remove 'segments/cuckoo/*': No such file or directory\n",
      "rm: cannot remove 'segments/bloom/*': No such file or directory\n",
      "1600000 Insertion Test Starts!!\n"
     ]
    },
    {
     "name": "stderr",
     "output_type": "stream",
     "text": [
      "7it [04:24, 37.76s/it]\n"
     ]
    }
   ],
   "source": [
    "inserts_results = {}\n",
    "\n",
    "for batch_num, insert_num, lvl in tqdm(zip(batch_size, insert_ranges, lvl_list)):\n",
    "    \n",
    "    _, _, lsm_original = reset_lsm(batch_num, lvl, fpp, time_th)\n",
    "    \n",
    "    print(f'{insert_num} Insertion Test Starts!!')\n",
    "    insertion_org = insert_testing(lsm_original, df.iloc[:insert_num])\n",
    "    inserts_results[str(insert_num)] = (insertion_org,)"
   ]
  }
 ],
 "metadata": {
  "kernelspec": {
   "display_name": "Python 3",
   "language": "python",
   "name": "python3"
  },
  "language_info": {
   "codemirror_mode": {
    "name": "ipython",
    "version": 3
   },
   "file_extension": ".py",
   "mimetype": "text/x-python",
   "name": "python",
   "nbconvert_exporter": "python",
   "pygments_lexer": "ipython3",
   "version": "3.6.8"
  }
 },
 "nbformat": 4,
 "nbformat_minor": 5
}
