{
 "cells": [
  {
   "cell_type": "code",
   "execution_count": null,
   "id": "7a29e52d-fdca-4bd8-9a5a-194f98752244",
   "metadata": {},
   "outputs": [],
   "source": [
    "import pandas as pd\n",
    "import pyarrow.parquet as pq\n",
    "import sys\n",
    "import numpy as np\n",
    "import time\n",
    "import random\n",
    "import pickle\n",
    "import matplotlib.pyplot as plt\n",
    "\n",
    "from lsm_tree.GenOne.lsm_tree_original_test import LSMTree\n",
    "from lsm_tree.GenOne.lsm_tree_cuckoo_filter_mem_test import LSMTreeCuckoo\n",
    "from lsm_tree.GenOne.lsm_tree_bloom_filter_mem_test import LSMTreeBloom\n",
    "from tqdm import tqdm\n",
    "from statistics import stdev, mean"
   ]
  },
  {
   "cell_type": "markdown",
   "id": "df5c5284-465f-4ab6-9243-856dffbb49f6",
   "metadata": {},
   "source": [
    "## Loading Data"
   ]
  },
  {
   "cell_type": "code",
   "execution_count": null,
   "id": "dac1e292-f856-4e30-8766-8050138505b4",
   "metadata": {},
   "outputs": [],
   "source": [
    "df_parquet = pq.read_table('Data/2019-01-01_performance_fixed_tiles.parquet').to_pandas()"
   ]
  },
  {
   "cell_type": "code",
   "execution_count": null,
   "id": "b62f9826-6ce5-4e10-ba7a-cedba1c3be81",
   "metadata": {},
   "outputs": [
    {
     "name": "stdout",
     "output_type": "stream",
     "text": [
      "Whole DataFrame      :  395.040068 4877036\n"
     ]
    }
   ],
   "source": [
    "SEGMENTS_DIRECTORY_CKF = 'segments/cuckoo/'\n",
    "SEGMENT_BASENAME_CKF = 'LSMTreeCuckoo'\n",
    "WAL_BASENAME_CKF = 'wal_file_cuckoo'\n",
    "\n",
    "SEGMENTS_DIRECTORY_BF = 'segments/bloom/'\n",
    "SEGMENT_BASENAME_BF = 'LSMTreeBloom'\n",
    "WAL_BASENAME_BF = 'wal_file_bloom'\n",
    "\n",
    "size = sys.getsizeof(df_parquet[['quadkey','avg_d_kbps']])/1000000\n",
    "print('Whole DataFrame      : ',size , len(df_parquet))"
   ]
  },
  {
   "cell_type": "code",
   "execution_count": null,
   "id": "503e67f9-6010-4df4-b2f5-b5615027f952",
   "metadata": {},
   "outputs": [
    {
     "data": {
      "text/html": [
       "<div>\n",
       "<style scoped>\n",
       "    .dataframe tbody tr th:only-of-type {\n",
       "        vertical-align: middle;\n",
       "    }\n",
       "\n",
       "    .dataframe tbody tr th {\n",
       "        vertical-align: top;\n",
       "    }\n",
       "\n",
       "    .dataframe thead th {\n",
       "        text-align: right;\n",
       "    }\n",
       "</style>\n",
       "<table border=\"1\" class=\"dataframe\">\n",
       "  <thead>\n",
       "    <tr style=\"text-align: right;\">\n",
       "      <th></th>\n",
       "      <th>quadkey</th>\n",
       "      <th>tile</th>\n",
       "      <th>avg_d_kbps</th>\n",
       "      <th>avg_u_kbps</th>\n",
       "      <th>avg_lat_ms</th>\n",
       "      <th>tests</th>\n",
       "      <th>devices</th>\n",
       "      <th>hashed_vals</th>\n",
       "    </tr>\n",
       "  </thead>\n",
       "  <tbody>\n",
       "    <tr>\n",
       "      <th>0</th>\n",
       "      <td>0231113112003202</td>\n",
       "      <td>POLYGON((-90.6591796875 38.4922941923613, -90....</td>\n",
       "      <td>66216</td>\n",
       "      <td>12490</td>\n",
       "      <td>13</td>\n",
       "      <td>28</td>\n",
       "      <td>4</td>\n",
       "      <td>6628451788224452118</td>\n",
       "    </tr>\n",
       "    <tr>\n",
       "      <th>1</th>\n",
       "      <td>1322111021111001</td>\n",
       "      <td>POLYGON((110.352172851562 21.2893743558604, 11...</td>\n",
       "      <td>102598</td>\n",
       "      <td>37356</td>\n",
       "      <td>13</td>\n",
       "      <td>15</td>\n",
       "      <td>4</td>\n",
       "      <td>6338773450739873531</td>\n",
       "    </tr>\n",
       "    <tr>\n",
       "      <th>2</th>\n",
       "      <td>3112203030003110</td>\n",
       "      <td>POLYGON((138.592529296875 -34.9219710361638, 1...</td>\n",
       "      <td>24686</td>\n",
       "      <td>18736</td>\n",
       "      <td>18</td>\n",
       "      <td>162</td>\n",
       "      <td>106</td>\n",
       "      <td>6510551075776564950</td>\n",
       "    </tr>\n",
       "    <tr>\n",
       "      <th>3</th>\n",
       "      <td>0320000130321312</td>\n",
       "      <td>POLYGON((-87.637939453125 40.225024210605, -87...</td>\n",
       "      <td>17674</td>\n",
       "      <td>13989</td>\n",
       "      <td>78</td>\n",
       "      <td>364</td>\n",
       "      <td>4</td>\n",
       "      <td>334763833012859542</td>\n",
       "    </tr>\n",
       "    <tr>\n",
       "      <th>4</th>\n",
       "      <td>0320001332313103</td>\n",
       "      <td>POLYGON((-84.7430419921875 38.9209554204673, -...</td>\n",
       "      <td>441192</td>\n",
       "      <td>218955</td>\n",
       "      <td>22</td>\n",
       "      <td>14</td>\n",
       "      <td>1</td>\n",
       "      <td>8652878199503431291</td>\n",
       "    </tr>\n",
       "  </tbody>\n",
       "</table>\n",
       "</div>"
      ],
      "text/plain": [
       "            quadkey                                               tile  \\\n",
       "0  0231113112003202  POLYGON((-90.6591796875 38.4922941923613, -90....   \n",
       "1  1322111021111001  POLYGON((110.352172851562 21.2893743558604, 11...   \n",
       "2  3112203030003110  POLYGON((138.592529296875 -34.9219710361638, 1...   \n",
       "3  0320000130321312  POLYGON((-87.637939453125 40.225024210605, -87...   \n",
       "4  0320001332313103  POLYGON((-84.7430419921875 38.9209554204673, -...   \n",
       "\n",
       "   avg_d_kbps  avg_u_kbps  avg_lat_ms  tests  devices          hashed_vals  \n",
       "0       66216       12490          13     28        4  6628451788224452118  \n",
       "1      102598       37356          13     15        4  6338773450739873531  \n",
       "2       24686       18736          18    162      106  6510551075776564950  \n",
       "3       17674       13989          78    364        4   334763833012859542  \n",
       "4      441192      218955          22     14        1  8652878199503431291  "
      ]
     },
     "execution_count": 5,
     "metadata": {},
     "output_type": "execute_result"
    }
   ],
   "source": [
    "df_parquet['hashed_vals'] = df_parquet['tile'].apply(lambda x: abs(hash(x)))\n",
    "df_parquet.head()"
   ]
  },
  {
   "cell_type": "code",
   "execution_count": null,
   "id": "288bd997-9ab9-4f37-b6db-93f783ba9d5c",
   "metadata": {},
   "outputs": [
    {
     "data": {
      "text/plain": [
       "1.0"
      ]
     },
     "execution_count": 6,
     "metadata": {},
     "output_type": "execute_result"
    }
   ],
   "source": [
    "cardinality = df_parquet['hashed_vals'].nunique()/len(df_parquet)\n",
    "cardinality"
   ]
  },
  {
   "cell_type": "markdown",
   "id": "fa9477ba-038e-4bc8-a6db-285fd67fe998",
   "metadata": {},
   "source": [
    "## LSM Tree Testing Functions "
   ]
  },
  {
   "cell_type": "code",
   "execution_count": null,
   "id": "fc3508d8-8cce-4995-bae5-02fe964fedc8",
   "metadata": {},
   "outputs": [],
   "source": [
    "def insert_testing(lsm, df):\n",
    "    start_time = time.time()\n",
    "    for num, row in enumerate(df.iterrows()):   \n",
    "        lsm.db_set(str(row[1][-1]), str(row[1][1]))   \n",
    "    end_time = time.time()\n",
    "    insertion_time = end_time - start_time\n",
    "    return insertion_time\n",
    "\n",
    "def query_testing(lsm, df, sample_num):\n",
    "    random_samples = df.sample(n=sample_num)\n",
    "    start_time = time.time()\n",
    "    for row in random_samples.iterrows():   \n",
    "        lsm.db_get(str(row[1][-1]))   \n",
    "    end_time = time.time()\n",
    "    query_time = end_time - start_time\n",
    "    return query_time\n",
    "\n",
    "def delete_testing(lsm, df, sample_num):\n",
    "    random_samples = df.sample(n=sample_num)\n",
    "    start_time = time.time()\n",
    "    for row in random_samples.iterrows():   \n",
    "        lsm.db_del(str(row[1][-1]))   \n",
    "    end_time = time.time()\n",
    "    deletion_time = end_time - start_time\n",
    "    return deletion_time, random_samples\n",
    "\n",
    "def query_testing_2(lsm, df):\n",
    "    random_samples = df\n",
    "    start_time = time.time()\n",
    "    for row in random_samples.iterrows():   \n",
    "        lsm.db_get(str(row[1][-1]))   \n",
    "    end_time = time.time()\n",
    "    query_time = end_time - start_time\n",
    "    return query_time\n",
    "\n",
    "def reset_lsm(batch_size, lvl_list, fpp, time_th):\n",
    "    \n",
    "    !rm segments/cuckoo/*\n",
    "    !rm segments/bloom/*\n",
    "    !rm segments/lsm_original/*\n",
    "    \n",
    "    lsm_ckf = LSMTreeCuckoo(SEGMENT_BASENAME_CKF, SEGMENTS_DIRECTORY_CKF, WAL_BASENAME_CKF)\n",
    "    lsm_ckf.set_size_threshold(batch_size)\n",
    "    lsm_ckf.set_ckf_fpp(fpp)\n",
    "    lsm_ckf.set_time_threshold(time_th)\n",
    "    lsm_ckf.set_levels_threshold(lvl_list[0], lvl_list[1])\n",
    "\n",
    "    lsm_bf = LSMTreeBloom(SEGMENT_BASENAME_BF, SEGMENTS_DIRECTORY_BF, WAL_BASENAME_BF)\n",
    "    lsm_bf.set_size_threshold(batch_size)\n",
    "    lsm_bf.set_bf_fpp(fpp)\n",
    "    lsm_bf.set_time_threshold(time_th)\n",
    "    lsm_bf.set_levels_threshold(lvl_list[0], lvl_list[1])\n",
    "    \n",
    "    lsm_original = LSMTree()\n",
    "    lsm_original.set_time_threshold(time_th)\n",
    "    \n",
    "    return lsm_ckf, lsm_bf, lsm_original"
   ]
  },
  {
   "cell_type": "markdown",
   "id": "b7cdb74a-37e5-4639-8142-40afc51e26df",
   "metadata": {},
   "source": [
    "# Query, Deletion Testing"
   ]
  },
  {
   "cell_type": "markdown",
   "id": "b1f72a05-1d17-4343-9fac-e9e896f6050d",
   "metadata": {},
   "source": [
    "## Test Configurations"
   ]
  },
  {
   "cell_type": "code",
   "execution_count": null,
   "id": "fb6a2d86-b274-4d7d-888b-8dab22eb8e01",
   "metadata": {},
   "outputs": [],
   "source": [
    "# insert_range        = [200000,  300000, 400000,  500000,  600000,  700000]\n",
    "# query_del_test_list = [5000,     10000,  15000,   20000,   25000,   30000] \n",
    "# query_del_ranges    = ['5k',     '10k',  '15k',   '20k',   '25k',   '30k'] \n",
    "# batch_size          = [5000,    50000,  50000,   50000,   50000,   50000] \n",
    "# lvl_list            = [[10,20],[10,20],[10,20], [10,20], [10,20], [10,20]]\n",
    "\n",
    "\n",
    "insert_range        = [100000,  150000, 200000, 250000,  300000,   350000]\n",
    "query_del_test_list = [10000,     15000,  20000,  25000,   30000,   35000] \n",
    "query_del_ranges    = ['10k',     '15k',  '20k',  '25k',   '30k',   '35k'] \n",
    "batch_size          = [25000,     30000,  35000,  40000,   45000,   50000] \n",
    "lvl_list            = [[10,20],[20,40],[40,80],[50,100],[60,120],[70,140]]"
   ]
  },
  {
   "cell_type": "code",
   "execution_count": null,
   "id": "17d2fdd5-4e25-43aa-a96c-a03ca2adf974",
   "metadata": {},
   "outputs": [],
   "source": [
    "fpp = 0.1\n",
    "df = df_parquet\n",
    "time_th = 0.05\n",
    "\n",
    "insertion_results = {}\n",
    "query_bef_results = {}\n",
    "deletion_results  = {}\n",
    "query_aft_results = {}"
   ]
  },
  {
   "cell_type": "markdown",
   "id": "4e002892-81a3-4af9-8289-de8afd4b6d70",
   "metadata": {},
   "source": [
    "## Test Conduction (Run ONLY if Needed)"
   ]
  },
  {
   "cell_type": "code",
   "execution_count": 9,
   "id": "23455ff1-b386-4206-9465-bb4950ba46c3",
   "metadata": {},
   "outputs": [
    {
     "name": "stderr",
     "output_type": "stream",
     "text": [
      "  0%|          | 0/6 [00:00<?, ?it/s]"
     ]
    },
    {
     "name": "stdout",
     "output_type": "stream",
     "text": [
      "Starting Insertion Test #0\n",
      "Starting Query Before Test #0\n",
      "Starting Deletion Test #0\n",
      "Starting Query After Test #0\n"
     ]
    },
    {
     "name": "stderr",
     "output_type": "stream",
     "text": [
      " 17%|█▋        | 1/6 [05:19<26:39, 319.82s/it]"
     ]
    },
    {
     "name": "stdout",
     "output_type": "stream",
     "text": [
      "rm: cannot remove 'segments/cuckoo/*': No such file or directory\n",
      "rm: cannot remove 'segments/bloom/*': No such file or directory\n",
      "Starting Insertion Test #1\n",
      "Starting Query Before Test #1\n",
      "Starting Deletion Test #1\n",
      "Starting Query After Test #1\n"
     ]
    },
    {
     "name": "stderr",
     "output_type": "stream",
     "text": [
      " 33%|███▎      | 2/6 [20:42<44:58, 674.65s/it]"
     ]
    },
    {
     "name": "stdout",
     "output_type": "stream",
     "text": [
      "rm: cannot remove 'segments/cuckoo/*': No such file or directory\n",
      "rm: cannot remove 'segments/bloom/*': No such file or directory\n",
      "Starting Insertion Test #2\n",
      "Starting Query Before Test #2\n",
      "Starting Deletion Test #2\n",
      "Starting Query After Test #2\n"
     ]
    },
    {
     "name": "stderr",
     "output_type": "stream",
     "text": [
      " 50%|█████     | 3/6 [50:40<59:22, 1187.46s/it]"
     ]
    },
    {
     "name": "stdout",
     "output_type": "stream",
     "text": [
      "rm: cannot remove 'segments/cuckoo/*': No such file or directory\n",
      "rm: cannot remove 'segments/bloom/*': No such file or directory\n",
      "Starting Insertion Test #3\n",
      "Starting Query Before Test #3\n",
      "Starting Deletion Test #3\n",
      "Starting Query After Test #3\n"
     ]
    },
    {
     "name": "stderr",
     "output_type": "stream",
     "text": [
      " 67%|██████▋   | 4/6 [1:40:30<1:03:18, 1899.08s/it]"
     ]
    },
    {
     "name": "stdout",
     "output_type": "stream",
     "text": [
      "rm: cannot remove 'segments/cuckoo/*': No such file or directory\n",
      "rm: cannot remove 'segments/bloom/*': No such file or directory\n",
      "Starting Insertion Test #4\n",
      "Starting Query Before Test #4\n",
      "Starting Deletion Test #4\n",
      "Starting Query After Test #4\n"
     ]
    },
    {
     "name": "stderr",
     "output_type": "stream",
     "text": [
      " 83%|████████▎ | 5/6 [2:55:47<47:23, 2843.10s/it]  "
     ]
    },
    {
     "name": "stdout",
     "output_type": "stream",
     "text": [
      "rm: cannot remove 'segments/cuckoo/*': No such file or directory\n",
      "rm: cannot remove 'segments/bloom/*': No such file or directory\n",
      "Starting Insertion Test #5\n",
      "Starting Query Before Test #5\n",
      "Starting Deletion Test #5\n",
      "Starting Query After Test #5\n"
     ]
    },
    {
     "name": "stderr",
     "output_type": "stream",
     "text": [
      "100%|██████████| 6/6 [4:44:16<00:00, 2842.72s/it]\n"
     ]
    }
   ],
   "source": [
    "for insert_num in tqdm(insert_range[:3]):\n",
    "    _, _, lsm_original = reset_lsm(batch_size[insert_range.index(insert_num)], lvl_list[insert_range.index(insert_num)], fpp, time_th)\n",
    "    test_numb = insert_range.index(insert_num)\n",
    "    sample_num = query_del_test_list[test_numb]\n",
    "    data = df_parquet.iloc[:insert_num]\n",
    "    key = str(insert_num)\n",
    "    \n",
    "    #Insertion Testing\n",
    "    print(f\"Starting Insertion Test #{test_numb}\")\n",
    "    orgl_insertion_time = insert_testing(lsm_original, data)\n",
    "\n",
    "    #Query Before Testing\n",
    "    print(f\"Starting Query Before Test #{test_numb}\")\n",
    "    orgl_befquery_time = query_testing(lsm_original, data, sample_num)\n",
    "\n",
    "    #Deletion Testing\n",
    "    print(f\"Starting Deletion Test #{test_numb}\")\n",
    "    orgl_deletion_time, random_samples = delete_testing(lsm_original, data, sample_num)\n",
    "    orgl_deletion_time = orgl_deletion_time\n",
    "    \n",
    "    #Query After Testing\n",
    "    print(f\"Starting Query After Test #{test_numb}\")\n",
    "    orgl_aftquery_time = query_testing_2(lsm_original, random_samples)\n",
    "    \n",
    "    #Result Organization\n",
    "    insertion_results[key] = (orgl_insertion_time, )\n",
    "    query_bef_results[key] = (orgl_befquery_time, )\n",
    "    deletion_results[key]  = (orgl_deletion_time, )\n",
    "    query_aft_results[key] = (orgl_aftquery_time, )"
   ]
  },
  {
   "cell_type": "code",
   "execution_count": null,
   "id": "6a9d6c5b-5aaf-4f00-b0cf-6ce8f5e30c67",
   "metadata": {},
   "outputs": [
    {
     "name": "stderr",
     "output_type": "stream",
     "text": [
      "  0%|          | 0/6 [00:00<?, ?it/s]"
     ]
    },
    {
     "name": "stdout",
     "output_type": "stream",
     "text": [
      "rm: cannot remove 'segments/cuckoo/*': No such file or directory\n",
      "rm: cannot remove 'segments/bloom/*': No such file or directory\n",
      "Starting Insertion Test #0\n",
      "Starting Query Before Test #0\n",
      "Starting Deletion Test #0\n",
      "Starting Query After Test #0\n"
     ]
    },
    {
     "name": "stderr",
     "output_type": "stream",
     "text": [
      " 17%|█▋        | 1/6 [05:47<28:55, 347.18s/it]"
     ]
    },
    {
     "name": "stdout",
     "output_type": "stream",
     "text": [
      "Starting Insertion Test #1\n",
      "Starting Query Before Test #1\n",
      "Starting Deletion Test #1\n",
      "Starting Query After Test #1\n"
     ]
    },
    {
     "name": "stderr",
     "output_type": "stream",
     "text": [
      " 33%|███▎      | 2/6 [16:50<35:33, 533.35s/it]"
     ]
    },
    {
     "name": "stdout",
     "output_type": "stream",
     "text": [
      "Starting Insertion Test #2\n",
      "Starting Query Before Test #2\n",
      "Starting Deletion Test #2\n",
      "Starting Query After Test #2\n"
     ]
    },
    {
     "name": "stderr",
     "output_type": "stream",
     "text": [
      " 50%|█████     | 3/6 [36:00<40:43, 814.65s/it]"
     ]
    },
    {
     "name": "stdout",
     "output_type": "stream",
     "text": [
      "Starting Insertion Test #3\n",
      "Starting Query Before Test #3\n",
      "Starting Deletion Test #3\n",
      "Starting Query After Test #3\n"
     ]
    },
    {
     "name": "stderr",
     "output_type": "stream",
     "text": [
      " 67%|██████▋   | 4/6 [1:06:34<40:34, 1217.37s/it]"
     ]
    },
    {
     "name": "stdout",
     "output_type": "stream",
     "text": [
      "Starting Insertion Test #4\n",
      "Starting Query Before Test #4\n",
      "Starting Deletion Test #4\n",
      "Starting Query After Test #4\n"
     ]
    },
    {
     "name": "stderr",
     "output_type": "stream",
     "text": [
      " 83%|████████▎ | 5/6 [1:46:07<27:13, 1633.95s/it]"
     ]
    },
    {
     "name": "stdout",
     "output_type": "stream",
     "text": [
      "Starting Insertion Test #5\n",
      "Starting Query Before Test #5\n",
      "Starting Deletion Test #5\n",
      "Starting Query After Test #5\n"
     ]
    },
    {
     "name": "stderr",
     "output_type": "stream",
     "text": [
      "100%|██████████| 6/6 [2:37:05<00:00, 1570.93s/it]\n"
     ]
    }
   ],
   "source": [
    "for insert_num in tqdm(insert_range[:]):\n",
    "    \n",
    "    lsm_ckf , lsm_bf, _ = reset_lsm(batch_size[insert_range.index(insert_num)], lvl_list[insert_range.index(insert_num)], fpp, time_th)\n",
    "    test_numb = insert_range.index(insert_num)\n",
    "    sample_num = query_del_test_list[test_numb]\n",
    "    data = df_parquet.iloc[:insert_num]\n",
    "    key = str(insert_num)\n",
    "    \n",
    "    #Insertion Testing\n",
    "    print(f\"Starting Insertion Test #{test_numb}\")\n",
    "    bf_insertion_time  = insert_testing(lsm_bf      , data)\n",
    "    ckf_insertion_time = insert_testing(lsm_ckf     , data)\n",
    "\n",
    "    #Query Before Testing\n",
    "    print(f\"Starting Query Before Test #{test_numb}\")\n",
    "    bf_befquery_time = query_testing(lsm_bf      , data, sample_num)\n",
    "    ckf_befquery_time = query_testing(lsm_ckf     , data, sample_num)\n",
    "\n",
    "    #Deletion Testing\n",
    "    print(f\"Starting Deletion Test #{test_numb}\")\n",
    "    bf_deletion_time, random_samples  = delete_testing(lsm_bf      , data, sample_num)\n",
    "    ckf_deletion_time, random_samples = delete_testing(lsm_ckf     , data, sample_num)\n",
    "    bf_deletion_time = bf_deletion_time\n",
    "    ckf_deletion_time = ckf_deletion_time\n",
    "    \n",
    "    #Query After Testing\n",
    "    print(f\"Starting Query After Test #{test_numb}\")\n",
    "    bf_aftquery_time  = query_testing_2(lsm_bf      , random_samples)\n",
    "    ckf_aftquery_time = query_testing_2(lsm_ckf     , random_samples)\n",
    "    \n",
    "    #Result Organization\n",
    "    insertion_results[key] = (bf_insertion_time, ckf_insertion_time) + insertion_results[key]\n",
    "    query_bef_results[key] = (bf_befquery_time ,  ckf_befquery_time) + query_bef_results[key]\n",
    "    deletion_results[key]  = (bf_deletion_time ,  ckf_deletion_time) + deletion_results[key]\n",
    "    query_aft_results[key] = (bf_aftquery_time ,  ckf_aftquery_time) + query_aft_results[key]"
   ]
  },
  {
   "cell_type": "markdown",
   "id": "fcc15df8-72a3-46ce-a1ab-f11f64d532fa",
   "metadata": {},
   "source": [
    "# Insertion Testion "
   ]
  },
  {
   "cell_type": "markdown",
   "id": "e78c7507-8375-46f6-a799-4dcfeea0d63f",
   "metadata": {},
   "source": [
    "## Test Configurations "
   ]
  },
  {
   "cell_type": "code",
   "execution_count": 7,
   "id": "fd927af5-9ef0-4644-b9d6-25a208a439f3",
   "metadata": {},
   "outputs": [
    {
     "data": {
      "text/plain": [
       "(7, 7, 7, 7)"
      ]
     },
     "execution_count": 7,
     "metadata": {},
     "output_type": "execute_result"
    }
   ],
   "source": [
    "fpp = 0.001\n",
    "df = df_parquet\n",
    "time_th = 0.05\n",
    "\n",
    "insert_ranges       = [25000  ,  50000,  100000,  200000,   400000,   800000,  1600000] #,  3200000]\n",
    "insert_ranges_ticks = ['25k'  ,'50k'  ,'100k'  ,'200k'  ,'400k'   , '800k'  ,  '1600k'] #  ,  '3200k']\n",
    "batch_size          = [2500   ,   5000,   10000,   20000,    40000,    80000,   160000] # ,   360000] \n",
    "lvl_list            = [[20,40],[40,80],[60,120],[80,160],[100,200],[120,240],[140,300]] # ,[150,310]]\n",
    "\n",
    "len(insert_ranges), len(insert_ranges_ticks), len(batch_size), len(lvl_list)"
   ]
  },
  {
   "cell_type": "markdown",
   "id": "cf8bf964-c8ad-4fdf-a8cd-853c2b395d7a",
   "metadata": {},
   "source": [
    "## Running The Test "
   ]
  },
  {
   "cell_type": "code",
   "execution_count": 10,
   "id": "f76d7ace-095e-4578-83dc-3cd7042e5174",
   "metadata": {},
   "outputs": [
    {
     "name": "stderr",
     "output_type": "stream",
     "text": [
      "0it [00:00, ?it/s]"
     ]
    },
    {
     "name": "stdout",
     "output_type": "stream",
     "text": [
      "rm: cannot remove 'segments/cuckoo/*': No such file or directory\n",
      "rm: cannot remove 'segments/bloom/*': No such file or directory\n",
      "25000 Insertion Test Starts!!\n"
     ]
    },
    {
     "name": "stderr",
     "output_type": "stream",
     "text": [
      "1it [00:02,  2.75s/it]"
     ]
    },
    {
     "name": "stdout",
     "output_type": "stream",
     "text": [
      "rm: cannot remove 'segments/cuckoo/*': No such file or directory\n",
      "rm: cannot remove 'segments/bloom/*': No such file or directory\n",
      "rm: cannot remove 'segments/lsm_original/*': No such file or directory\n",
      "50000 Insertion Test Starts!!\n"
     ]
    },
    {
     "name": "stderr",
     "output_type": "stream",
     "text": [
      "2it [00:07,  3.92s/it]"
     ]
    },
    {
     "name": "stdout",
     "output_type": "stream",
     "text": [
      "rm: cannot remove 'segments/cuckoo/*': No such file or directory\n",
      "rm: cannot remove 'segments/bloom/*': No such file or directory\n",
      "rm: cannot remove 'segments/lsm_original/*': No such file or directory\n",
      "100000 Insertion Test Starts!!\n"
     ]
    },
    {
     "name": "stderr",
     "output_type": "stream",
     "text": [
      "3it [00:16,  6.12s/it]"
     ]
    },
    {
     "name": "stdout",
     "output_type": "stream",
     "text": [
      "rm: cannot remove 'segments/cuckoo/*': No such file or directory\n",
      "rm: cannot remove 'segments/bloom/*': No such file or directory\n",
      "200000 Insertion Test Starts!!\n"
     ]
    },
    {
     "name": "stderr",
     "output_type": "stream",
     "text": [
      "4it [00:32, 10.32s/it]"
     ]
    },
    {
     "name": "stdout",
     "output_type": "stream",
     "text": [
      "rm: cannot remove 'segments/cuckoo/*': No such file or directory\n",
      "rm: cannot remove 'segments/bloom/*': No such file or directory\n",
      "400000 Insertion Test Starts!!\n"
     ]
    },
    {
     "name": "stderr",
     "output_type": "stream",
     "text": [
      "5it [01:05, 18.46s/it]"
     ]
    },
    {
     "name": "stdout",
     "output_type": "stream",
     "text": [
      "rm: cannot remove 'segments/cuckoo/*': No such file or directory\n",
      "rm: cannot remove 'segments/bloom/*': No such file or directory\n",
      "800000 Insertion Test Starts!!\n"
     ]
    },
    {
     "name": "stderr",
     "output_type": "stream",
     "text": [
      "6it [02:10, 34.32s/it]"
     ]
    },
    {
     "name": "stdout",
     "output_type": "stream",
     "text": [
      "rm: cannot remove 'segments/cuckoo/*': No such file or directory\n",
      "rm: cannot remove 'segments/bloom/*': No such file or directory\n",
      "1600000 Insertion Test Starts!!\n"
     ]
    },
    {
     "name": "stderr",
     "output_type": "stream",
     "text": [
      "7it [04:20, 37.19s/it]\n"
     ]
    }
   ],
   "source": [
    "inserts_results = {}\n",
    "\n",
    "for batch_num, insert_num, lvl in tqdm(zip(batch_size, insert_ranges, lvl_list)):\n",
    "    \n",
    "    _, _, lsm_original = reset_lsm(batch_num, lvl, fpp, time_th)\n",
    "    \n",
    "    print(f'{insert_num} Insertion Test Starts!!')\n",
    "    insertion_org = insert_testing(lsm_original, df.iloc[:insert_num])\n",
    "    inserts_results[str(insert_num)] = (insertion_org,)"
   ]
  },
  {
   "cell_type": "code",
   "execution_count": 11,
   "id": "b51e454b-ee04-4435-84ca-18fd4b1a0a87",
   "metadata": {},
   "outputs": [
    {
     "data": {
      "text/plain": [
       "{'25000': (1.863973617553711,),\n",
       " '50000': (3.925391674041748,),\n",
       " '100000': (7.90558385848999,),\n",
       " '200000': (15.935945749282837,),\n",
       " '400000': (32.04067420959473,),\n",
       " '800000': (64.25781059265137,),\n",
       " '1600000': (128.47691226005554,)}"
      ]
     },
     "execution_count": 11,
     "metadata": {},
     "output_type": "execute_result"
    }
   ],
   "source": [
    "inserts_results"
   ]
  },
  {
   "cell_type": "code",
   "execution_count": null,
   "id": "b5f93332-6e1f-4594-8997-ef6c680960af",
   "metadata": {},
   "outputs": [],
   "source": [
    "with open('insert_results_org', 'wb') as b:\n",
    "    pickle.dump(insertion_results, b)"
   ]
  },
  {
   "cell_type": "code",
   "execution_count": null,
   "id": "906eaa57-0545-482c-813f-a4e15b4a4270",
   "metadata": {},
   "outputs": [],
   "source": [
    "inserts_results = {}\n",
    "\n",
    "for batch_num, insert_num, lvl in tqdm(zip(batch_size, insert_ranges, lvl_list)):\n",
    "    \n",
    "    lsm_ckf , lsm_bf, _ = reset_lsm(batch_num, lvl, fpp, time_th)\n",
    "    \n",
    "    print(f'{insert_num} Insertion Test Starts!!')\n",
    "    insertion_bf = insert_testing(lsm_bf, df.iloc[:insert_num])\n",
    "    inserts_results[str(insert_num)] = (insertion_bf,)\n",
    "    insertion_ckf = insert_testing(lsm_ckf, df.iloc[:insert_num])\n",
    "    inserts_results[str(insert_num)] += (insertion_ckf,)"
   ]
  },
  {
   "cell_type": "code",
   "execution_count": null,
   "id": "915fca69-6d53-4c24-a99d-236e4efe9983",
   "metadata": {},
   "outputs": [],
   "source": [
    "with open('insert_results_bfckf', 'wb') as b:\n",
    "    pickle.dump(insertion_results, b)"
   ]
  },
  {
   "cell_type": "code",
   "execution_count": null,
   "id": "aa5e5a8a-1e4f-4baf-82c3-3dc799f75c94",
   "metadata": {},
   "outputs": [],
   "source": []
  },
  {
   "cell_type": "markdown",
   "id": "6eb7b91d-f90d-4ff3-a522-c6f5ee27c71c",
   "metadata": {},
   "source": [
    "## Test Data Vizualization"
   ]
  },
  {
   "cell_type": "markdown",
   "id": "e4c3a4f1-f119-4572-95c6-cb2b2f67d8bc",
   "metadata": {},
   "source": [
    "### To save data"
   ]
  },
  {
   "cell_type": "code",
   "execution_count": 9,
   "id": "b77e520d-d1af-4a51-9e18-e7b8c7efe328",
   "metadata": {},
   "outputs": [],
   "source": [
    "# with open('insert_results_org', 'wb') as b:\n",
    "#     pickle.dump(insertion_results, b)\n",
    "\n",
    "# with open('query_bef_results_bckor_10', 'wb') as b:\n",
    "#     pickle.dump(query_bef_results, b)\n",
    "    \n",
    "# with open('deletion_results_bckor_10', 'wb') as b:\n",
    "#     pickle.dump(deletion_results, b)\n",
    "    \n",
    "# with open('query_aft_results_bckor_10', 'wb') as b:\n",
    "#     pickle.dump(query_aft_results, b)"
   ]
  }
 ],
 "metadata": {
  "kernelspec": {
   "display_name": "Python 3",
   "language": "python",
   "name": "python3"
  },
  "language_info": {
   "codemirror_mode": {
    "name": "ipython",
    "version": 3
   },
   "file_extension": ".py",
   "mimetype": "text/x-python",
   "name": "python",
   "nbconvert_exporter": "python",
   "pygments_lexer": "ipython3",
   "version": "3.6.8"
  }
 },
 "nbformat": 4,
 "nbformat_minor": 5
}
