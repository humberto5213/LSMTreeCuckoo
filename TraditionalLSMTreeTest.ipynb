{
 "cells": [
  {
   "cell_type": "code",
   "execution_count": 1,
   "id": "df411fd8-1526-4d7f-8a78-93bdfb0f1f11",
   "metadata": {},
   "outputs": [],
   "source": [
    "from lsm_tree_original import LSMTree\n",
    "from tqdm import tqdm\n",
    "from statistics import stdev, mean\n",
    "\n",
    "\n",
    "# import cProfile\n",
    "# import pstats\n",
    "# import snakeviz\n",
    "\n",
    "import pandas as pd\n",
    "import pyarrow.parquet as pq\n",
    "import sys\n",
    "import numpy as np\n",
    "import time\n",
    "import random\n",
    "import pickle\n",
    "import matplotlib.pyplot as plt"
   ]
  },
  {
   "cell_type": "code",
   "execution_count": 2,
   "id": "0d176685-c2f0-4361-b604-2b6be9c685bf",
   "metadata": {},
   "outputs": [],
   "source": [
    "df_parquet = pq.read_table('Data/2019-01-01_performance_fixed_tiles.parquet').to_pandas()"
   ]
  },
  {
   "cell_type": "code",
   "execution_count": 3,
   "id": "b2f94a67-91b7-484e-a04e-6372f7e67bb2",
   "metadata": {},
   "outputs": [
    {
     "name": "stdout",
     "output_type": "stream",
     "text": [
      "Whole DataFrame      :  395.040068 4877036\n"
     ]
    }
   ],
   "source": [
    "SEGMENTS_DIRECTORY_CKF = 'segments/cuckoo/'\n",
    "SEGMENT_BASENAME_CKF = 'LSMTreeCuckoo'\n",
    "WAL_BASENAME_CKF = 'wal_file_cuckoo'\n",
    "\n",
    "SEGMENTS_DIRECTORY_BF = 'segments/bloom/'\n",
    "SEGMENT_BASENAME_BF = 'LSMTreeBloom'\n",
    "WAL_BASENAME_BF = 'wal_file_bloom'\n",
    "\n",
    "size = sys.getsizeof(df_parquet[['quadkey','avg_d_kbps']])/1000000\n",
    "print('Whole DataFrame      : ',size , len(df_parquet))"
   ]
  },
  {
   "cell_type": "code",
   "execution_count": 4,
   "id": "5f960309-568f-4bc9-9b5e-5ff867d1abc3",
   "metadata": {},
   "outputs": [
    {
     "data": {
      "text/html": [
       "<div>\n",
       "<style scoped>\n",
       "    .dataframe tbody tr th:only-of-type {\n",
       "        vertical-align: middle;\n",
       "    }\n",
       "\n",
       "    .dataframe tbody tr th {\n",
       "        vertical-align: top;\n",
       "    }\n",
       "\n",
       "    .dataframe thead th {\n",
       "        text-align: right;\n",
       "    }\n",
       "</style>\n",
       "<table border=\"1\" class=\"dataframe\">\n",
       "  <thead>\n",
       "    <tr style=\"text-align: right;\">\n",
       "      <th></th>\n",
       "      <th>quadkey</th>\n",
       "      <th>tile</th>\n",
       "      <th>avg_d_kbps</th>\n",
       "      <th>avg_u_kbps</th>\n",
       "      <th>avg_lat_ms</th>\n",
       "      <th>tests</th>\n",
       "      <th>devices</th>\n",
       "      <th>hashed_vals</th>\n",
       "    </tr>\n",
       "  </thead>\n",
       "  <tbody>\n",
       "    <tr>\n",
       "      <th>0</th>\n",
       "      <td>0231113112003202</td>\n",
       "      <td>POLYGON((-90.6591796875 38.4922941923613, -90....</td>\n",
       "      <td>66216</td>\n",
       "      <td>12490</td>\n",
       "      <td>13</td>\n",
       "      <td>28</td>\n",
       "      <td>4</td>\n",
       "      <td>6292758158835805233</td>\n",
       "    </tr>\n",
       "    <tr>\n",
       "      <th>1</th>\n",
       "      <td>1322111021111001</td>\n",
       "      <td>POLYGON((110.352172851562 21.2893743558604, 11...</td>\n",
       "      <td>102598</td>\n",
       "      <td>37356</td>\n",
       "      <td>13</td>\n",
       "      <td>15</td>\n",
       "      <td>4</td>\n",
       "      <td>3430291227720601726</td>\n",
       "    </tr>\n",
       "    <tr>\n",
       "      <th>2</th>\n",
       "      <td>3112203030003110</td>\n",
       "      <td>POLYGON((138.592529296875 -34.9219710361638, 1...</td>\n",
       "      <td>24686</td>\n",
       "      <td>18736</td>\n",
       "      <td>18</td>\n",
       "      <td>162</td>\n",
       "      <td>106</td>\n",
       "      <td>1896895394411534007</td>\n",
       "    </tr>\n",
       "    <tr>\n",
       "      <th>3</th>\n",
       "      <td>0320000130321312</td>\n",
       "      <td>POLYGON((-87.637939453125 40.225024210605, -87...</td>\n",
       "      <td>17674</td>\n",
       "      <td>13989</td>\n",
       "      <td>78</td>\n",
       "      <td>364</td>\n",
       "      <td>4</td>\n",
       "      <td>1735441524002766295</td>\n",
       "    </tr>\n",
       "    <tr>\n",
       "      <th>4</th>\n",
       "      <td>0320001332313103</td>\n",
       "      <td>POLYGON((-84.7430419921875 38.9209554204673, -...</td>\n",
       "      <td>441192</td>\n",
       "      <td>218955</td>\n",
       "      <td>22</td>\n",
       "      <td>14</td>\n",
       "      <td>1</td>\n",
       "      <td>7258374205672227954</td>\n",
       "    </tr>\n",
       "  </tbody>\n",
       "</table>\n",
       "</div>"
      ],
      "text/plain": [
       "            quadkey                                               tile  \\\n",
       "0  0231113112003202  POLYGON((-90.6591796875 38.4922941923613, -90....   \n",
       "1  1322111021111001  POLYGON((110.352172851562 21.2893743558604, 11...   \n",
       "2  3112203030003110  POLYGON((138.592529296875 -34.9219710361638, 1...   \n",
       "3  0320000130321312  POLYGON((-87.637939453125 40.225024210605, -87...   \n",
       "4  0320001332313103  POLYGON((-84.7430419921875 38.9209554204673, -...   \n",
       "\n",
       "   avg_d_kbps  avg_u_kbps  avg_lat_ms  tests  devices          hashed_vals  \n",
       "0       66216       12490          13     28        4  6292758158835805233  \n",
       "1      102598       37356          13     15        4  3430291227720601726  \n",
       "2       24686       18736          18    162      106  1896895394411534007  \n",
       "3       17674       13989          78    364        4  1735441524002766295  \n",
       "4      441192      218955          22     14        1  7258374205672227954  "
      ]
     },
     "execution_count": 4,
     "metadata": {},
     "output_type": "execute_result"
    }
   ],
   "source": [
    "df_parquet['hashed_vals'] = df_parquet['tile'].apply(lambda x: abs(hash(x)))\n",
    "df_parquet.head()"
   ]
  },
  {
   "cell_type": "code",
   "execution_count": 5,
   "id": "1961c2ce-20b9-4ab0-bb7f-57a0acbe6356",
   "metadata": {},
   "outputs": [
    {
     "data": {
      "text/plain": [
       "1.0"
      ]
     },
     "execution_count": 5,
     "metadata": {},
     "output_type": "execute_result"
    }
   ],
   "source": [
    "cardinality = df_parquet['hashed_vals'].nunique()/len(df_parquet)\n",
    "cardinality"
   ]
  },
  {
   "cell_type": "code",
   "execution_count": 6,
   "id": "bc096840-9873-47fe-9a5d-1b56730f0208",
   "metadata": {},
   "outputs": [],
   "source": [
    "def insert_testing(lsm, df):\n",
    "    start_time = time.time()\n",
    "    for num, row in enumerate(df.iterrows()):   \n",
    "        lsm.db_set(str(row[1][-1]), str(row[1][1]))   \n",
    "    end_time = time.time()\n",
    "    insertion_time = end_time - start_time\n",
    "    return insertion_time\n",
    "\n",
    "def query_testing(lsm, df, sample_num):\n",
    "    random_samples = df.sample(n=sample_num)\n",
    "    start_time = time.time()\n",
    "    for row in random_samples.iterrows():   \n",
    "        lsm.db_get(str(row[1][-1]))   \n",
    "    end_time = time.time()\n",
    "    query_time = end_time - start_time\n",
    "    return query_time"
   ]
  },
  {
   "cell_type": "code",
   "execution_count": 7,
   "id": "4e0b941b-85f2-421d-9b66-e1ac8807c427",
   "metadata": {},
   "outputs": [],
   "source": [
    "time_th = 0.05"
   ]
  },
  {
   "cell_type": "code",
   "execution_count": 8,
   "id": "f0b93080-b95d-479d-806b-b0f04b8ec605",
   "metadata": {},
   "outputs": [],
   "source": [
    "!rm segments/cuckoo/*\n",
    "!rm segments/bloom/*\n",
    "!rm segments/lsm_original/*"
   ]
  },
  {
   "cell_type": "code",
   "execution_count": 9,
   "id": "fdcff658-c209-47eb-bb2b-08260ab324ac",
   "metadata": {},
   "outputs": [],
   "source": [
    "lsm_original = LSMTree()\n",
    "lsm_original.set_time_threshold(time_th)"
   ]
  },
  {
   "cell_type": "code",
   "execution_count": 10,
   "id": "8be405fa-803b-4a35-86a7-881e1bb10039",
   "metadata": {},
   "outputs": [],
   "source": [
    "insertion_lsm_time = insert_testing(lsm_original, df_parquet.iloc[:100000])"
   ]
  },
  {
   "cell_type": "code",
   "execution_count": 11,
   "id": "1d0bfe54-4186-4d0c-a71b-b482d1f152a5",
   "metadata": {},
   "outputs": [],
   "source": [
    "query_lsm_time = query_testing(lsm_original, df_parquet.iloc[:100000], 10000)"
   ]
  },
  {
   "cell_type": "code",
   "execution_count": 12,
   "id": "59942aec-5ef1-47d3-abe5-d73f6556a650",
   "metadata": {},
   "outputs": [
    {
     "data": {
      "text/plain": [
       "(7.827477931976318, 73.23587536811829)"
      ]
     },
     "execution_count": 12,
     "metadata": {},
     "output_type": "execute_result"
    }
   ],
   "source": [
    "insertion_lsm_time, query_lsm_time"
   ]
  },
  {
   "cell_type": "code",
   "execution_count": null,
   "id": "7e64f539-c1ea-431f-9e69-293cb023e5ec",
   "metadata": {},
   "outputs": [],
   "source": []
  },
  {
   "cell_type": "code",
   "execution_count": null,
   "id": "ece9580d-ec49-4f57-8905-86511b04e741",
   "metadata": {},
   "outputs": [],
   "source": [
    "insert_range        = [200000,  200000, 400000, 400000,  600000,   600000,  800000,  800000, 1000000, 1000000]\n",
    "query_del_test_list = [15000,    30000,  45000,  60000,   75000,    90000,  105000,  120000,  135000,  150000] \n",
    "query_del_ranges    = ['15k',    '30k',  '45k',  '60k',   '75k',    '90k',  '105k',  '120k',  '135k',  '150k'] \n",
    "batch_size          = [20000,    20000,  40000,  40000,   60000,    60000,   80000,   80000,  100000,  100000] \n",
    "lvl_list            = [[10,20],[20,40],[40,80],[50,100],[60,120],[70,140],[80,160],[90,180],[100,190],[110,200]]\n",
    "\n",
    "fpp = 0.1\n",
    "df = df_parquet\n",
    "time_th = 0.05\n",
    "\n",
    "len(insert_range), len(query_del_test_list), len(query_del_ranges), len(batch_size), len(lvl_list)\n",
    "\n",
    "query_bef_results = []\n",
    "deletion_results = []\n",
    "query_aft_results = []"
   ]
  },
  {
   "cell_type": "code",
   "execution_count": null,
   "id": "24cee551-924f-43b0-989d-bfadf60e2dd2",
   "metadata": {},
   "outputs": [],
   "source": []
  },
  {
   "cell_type": "code",
   "execution_count": null,
   "id": "5ae773f3-fda5-49b1-bc0e-c86efbe4fc1f",
   "metadata": {},
   "outputs": [],
   "source": []
  }
 ],
 "metadata": {
  "kernelspec": {
   "display_name": "Python 3",
   "language": "python",
   "name": "python3"
  },
  "language_info": {
   "codemirror_mode": {
    "name": "ipython",
    "version": 3
   },
   "file_extension": ".py",
   "mimetype": "text/x-python",
   "name": "python",
   "nbconvert_exporter": "python",
   "pygments_lexer": "ipython3",
   "version": "3.6.8"
  }
 },
 "nbformat": 4,
 "nbformat_minor": 5
}
